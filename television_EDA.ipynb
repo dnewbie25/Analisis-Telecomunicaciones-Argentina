{
 "cells": [
  {
   "cell_type": "code",
   "execution_count": 1,
   "metadata": {},
   "outputs": [],
   "source": [
    "import pandas as pd\n",
    "import numpy as np\n",
    "import matplotlib.pyplot as plt"
   ]
  },
  {
   "cell_type": "markdown",
   "metadata": {},
   "source": [
    "Se buscará primero determinar cómo el acceso a Internet a evolucionado a lo largo de los años y cómo el acceso al servicio de Televisión se ha visto afectado, partiendo de la premisa de que desde la llegada de Internet y los servicios de streaming, la Televisión ha decaído y cada vez menos personas la van a adquirir como parte de sus paquetes.\n",
    "Se cargarán los datos de internet, los cuales se encuentran en el archivo `internet_EDA.ipynb`, como son:\n",
    "- Las velocidades\n",
    "- Las tecnologías\n",
    "- Mbps medios de bajada por provincia\n",
    "- La penetración de internet por población y hogares\n",
    "- Ingresos totales\n",
    "\n",
    "Una vez obtenida y limpiada esta información para el internet, se procederá a revisar la Televisión, en particular:\n",
    "- Los clientes de TV por provincia \n",
    "- La penetración de TV por provincia\n",
    "- Los ingresos totales\n",
    "- Las tecnologías usadas para el servicio de TV"
   ]
  }
 ],
 "metadata": {
  "kernelspec": {
   "display_name": "base",
   "language": "python",
   "name": "python3"
  },
  "language_info": {
   "codemirror_mode": {
    "name": "ipython",
    "version": 3
   },
   "file_extension": ".py",
   "mimetype": "text/x-python",
   "name": "python",
   "nbconvert_exporter": "python",
   "pygments_lexer": "ipython3",
   "version": "3.11.5"
  }
 },
 "nbformat": 4,
 "nbformat_minor": 2
}
